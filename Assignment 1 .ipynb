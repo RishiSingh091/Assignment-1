{
 "cells": [
  {
   "cell_type": "code",
   "execution_count": null,
   "id": "0286fc70-9605-432d-848d-abab220c64c3",
   "metadata": {},
   "outputs": [],
   "source": [
    "# values\n",
    "hello\n",
    "-87.8\n",
    "6\n",
    "\n",
    "# Expression\n",
    "\n",
    "*\n",
    "-\n",
    "/\n",
    "+"
   ]
  },
  {
   "cell_type": "markdown",
   "id": "57250f90-9197-4eee-b2c2-7c9598c76316",
   "metadata": {},
   "source": [
    "# What is the difference between string and variable?"
   ]
  },
  {
   "cell_type": "code",
   "execution_count": null,
   "id": "ac053d14-05c4-4562-9195-cafe31d9eb99",
   "metadata": {},
   "outputs": [],
   "source": [
    "# Strings\n",
    "# A string is used to represent text\n",
    "# In strings we use single,double and triple quotes to close characters\n",
    "\n",
    "# Variable\n",
    "# A variable assigning a value to a name\n",
    "# Variables can store various data types including integers, floats, strings, lists, etc."
   ]
  },
  {
   "cell_type": "markdown",
   "id": "31b51ddc-f77d-41e6-bc39-3ee8625a4b80",
   "metadata": {},
   "source": [
    "# Describe three different data types."
   ]
  },
  {
   "cell_type": "code",
   "execution_count": null,
   "id": "027f0817-44a0-4b97-b4e6-595384166975",
   "metadata": {},
   "outputs": [],
   "source": [
    "# Three data types are integer float and string"
   ]
  },
  {
   "cell_type": "markdown",
   "id": "d5f48715-0fdb-47f0-92db-f85c8b79c418",
   "metadata": {},
   "source": [
    "# What is an expression made up of? What do all expressions do?"
   ]
  },
  {
   "cell_type": "code",
   "execution_count": null,
   "id": "35fd7a1f-ac6b-4a00-b22a-1e5ab755f6df",
   "metadata": {},
   "outputs": [],
   "source": [
    "An expression in Python is a combination of values, variables, operators, and function calls that \n",
    "can be evaluated to produce a value.\n",
    "\n",
    "All Expression produce a value.This value can be of any data type, such as an integer,float,string\n",
    "boolean,list etc."
   ]
  },
  {
   "cell_type": "markdown",
   "id": "f4fdb348-ad2b-4571-9acd-644240a95670",
   "metadata": {},
   "source": [
    "# This assignment statements, like spam = 10. What is the difference between an\n",
    "# expression and a statement"
   ]
  },
  {
   "cell_type": "code",
   "execution_count": null,
   "id": "12bfde28-175b-4452-98d0-5c87c8ebc003",
   "metadata": {},
   "outputs": [],
   "source": [
    "An expression in Python is a combination of values, variables, operators, and function calls that \n",
    "can be evaluated to produce a value.\n",
    "\n",
    "A statement is a piece of code that performs an action. Statements do not necessarily produce a \n",
    "value that can be used in further expressions. Instead, they perform an operation, such as \n",
    "assigning a value, defining a function, or controlling the flow of execution."
   ]
  },
  {
   "cell_type": "markdown",
   "id": "2430d19b-89e2-419b-9543-387747e46ec5",
   "metadata": {},
   "source": [
    "# What should the following two expressions evaluate to?\n",
    "\n",
    "'spam' + 'spamspam'\n",
    "'spam' * 3"
   ]
  },
  {
   "cell_type": "code",
   "execution_count": null,
   "id": "5e986ae4-667e-4ac2-98f4-f6480ae09f88",
   "metadata": {},
   "outputs": [],
   "source": [
    "Both expressions evaluate to the string 'spamspamspam'"
   ]
  },
  {
   "cell_type": "markdown",
   "id": "51138cc1-9290-47ba-9f32-e3e2cbf9bf52",
   "metadata": {},
   "source": [
    "# Why is eggs a valid variable name while 100 is invalid?"
   ]
  },
  {
   "cell_type": "code",
   "execution_count": null,
   "id": "068351d8-aba8-4cb8-ae06-b9aa106ca9b9",
   "metadata": {},
   "outputs": [],
   "source": [
    "eggs a valid varaible beacuse variable in python starts with a letter. They cannot starts with \n",
    "the number."
   ]
  },
  {
   "cell_type": "markdown",
   "id": "048c3d79-8843-4ff1-bf88-d571bf147b64",
   "metadata": {},
   "source": [
    "# What three functions can be used to get the integer, floating-point number, or string version of a value?"
   ]
  },
  {
   "cell_type": "code",
   "execution_count": null,
   "id": "e428e8c7-1b45-4aaa-b079-96b0aff55ad0",
   "metadata": {},
   "outputs": [],
   "source": [
    "The three function for integer,floating or string are. The int() float() and str()"
   ]
  },
  {
   "cell_type": "markdown",
   "id": "1e4335e5-b274-475c-8be7-d09a9ebb640e",
   "metadata": {},
   "source": [
    "# Why does this expression cause an error? How can you fix it?\n",
    "# 'I have eaten' +99+'burritos'"
   ]
  },
  {
   "cell_type": "code",
   "execution_count": 17,
   "id": "a57dc03b-1742-43bd-bef0-5094b309ae48",
   "metadata": {},
   "outputs": [
    {
     "name": "stdout",
     "output_type": "stream",
     "text": [
      "I have eaten 99 burritos\n"
     ]
    }
   ],
   "source": [
    "# This expression cause an error because 99 is an integer and only strings can be add to other\n",
    "# strings with the + operator\n",
    "\n",
    "add = 'I have eaten ' + str(99) + ' burritos'\n",
    "print(add)"
   ]
  },
  {
   "cell_type": "code",
   "execution_count": null,
   "id": "763b0f9e-6c02-403c-97eb-d23c6c2d1672",
   "metadata": {},
   "outputs": [],
   "source": []
  }
 ],
 "metadata": {
  "kernelspec": {
   "display_name": "Python 3 (ipykernel)",
   "language": "python",
   "name": "python3"
  },
  "language_info": {
   "codemirror_mode": {
    "name": "ipython",
    "version": 3
   },
   "file_extension": ".py",
   "mimetype": "text/x-python",
   "name": "python",
   "nbconvert_exporter": "python",
   "pygments_lexer": "ipython3",
   "version": "3.10.2"
  }
 },
 "nbformat": 4,
 "nbformat_minor": 5
}
